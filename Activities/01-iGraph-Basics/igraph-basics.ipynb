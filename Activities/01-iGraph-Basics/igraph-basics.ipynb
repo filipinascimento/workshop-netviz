{
 "cells": [
  {
   "cell_type": "markdown",
   "id": "b3c21f11-7cf7-4b53-b7b4-c8ecbf5c5a47",
   "metadata": {},
   "source": [
    "# igraph basics"
   ]
  },
  {
   "cell_type": "code",
   "execution_count": 1,
   "id": "ea57a45b-856b-41e3-8004-f01f5461c310",
   "metadata": {},
   "outputs": [],
   "source": [
    "import igraph as ig"
   ]
  },
  {
   "cell_type": "code",
   "execution_count": 2,
   "id": "61cab0de-a936-40f5-97f0-b270eb03aa0c",
   "metadata": {},
   "outputs": [],
   "source": [
    "# Gnerating a random network\n",
    "g_random = ig.Graph.Erdos_Renyi(n=15, p=0.2, directed=False, loops=False)"
   ]
  },
  {
   "cell_type": "code",
   "execution_count": 3,
   "id": "a9f6ea5d-c54e-43b6-90d6-3c2bde070b04",
   "metadata": {},
   "outputs": [
    {
     "name": "stdout",
     "output_type": "stream",
     "text": [
      "IGRAPH U--- 15 15 --\n",
      "+ edges:\n",
      "1--5 4--6 2--7 5--9 3--10 4--10 5--11 0--12 8--12 9--12 11--12 2--14 4--14\n",
      "5--14 13--14\n"
     ]
    }
   ],
   "source": [
    "print(g_random)"
   ]
  },
  {
   "cell_type": "code",
   "execution_count": 4,
   "id": "7722e3da-10f4-44fc-a8d3-687f03928488",
   "metadata": {},
   "outputs": [
    {
     "data": {
      "text/plain": [
       "[0, 1, 2, 3, 4, 5, 6, 7, 8, 9, 10, 11, 12, 13, 14]"
      ]
     },
     "execution_count": 4,
     "metadata": {},
     "output_type": "execute_result"
    }
   ],
   "source": [
    "# Nodes\n",
    "[node.index for node in g_random.vs]"
   ]
  },
  {
   "cell_type": "code",
   "execution_count": 5,
   "id": "263e95aa-76e6-470c-a4cc-a43a9479c4ac",
   "metadata": {},
   "outputs": [
    {
     "data": {
      "text/plain": [
       "[(1, 5),\n",
       " (4, 6),\n",
       " (2, 7),\n",
       " (5, 9),\n",
       " (3, 10),\n",
       " (4, 10),\n",
       " (5, 11),\n",
       " (0, 12),\n",
       " (8, 12),\n",
       " (9, 12),\n",
       " (11, 12),\n",
       " (2, 14),\n",
       " (4, 14),\n",
       " (5, 14),\n",
       " (13, 14)]"
      ]
     },
     "execution_count": 5,
     "metadata": {},
     "output_type": "execute_result"
    }
   ],
   "source": [
    "# Edges\n",
    "[(edge.source, edge.target) for edge in g_random.es]"
   ]
  },
  {
   "cell_type": "code",
   "execution_count": 6,
   "id": "87fb219c-fd1d-426f-838a-64041a81bbc9",
   "metadata": {},
   "outputs": [
    {
     "data": {
      "text/plain": [
       "[(1, 5),\n",
       " (4, 6),\n",
       " (2, 7),\n",
       " (5, 9),\n",
       " (3, 10),\n",
       " (4, 10),\n",
       " (5, 11),\n",
       " (0, 12),\n",
       " (8, 12),\n",
       " (9, 12),\n",
       " (11, 12),\n",
       " (2, 14),\n",
       " (4, 14),\n",
       " (5, 14),\n",
       " (13, 14)]"
      ]
     },
     "execution_count": 6,
     "metadata": {},
     "output_type": "execute_result"
    }
   ],
   "source": [
    "# or simply\n",
    "g_random.get_edgelist()"
   ]
  },
  {
   "cell_type": "code",
   "execution_count": 7,
   "id": "a8d0df3e-86f7-4c68-a151-7aed77b9ba4a",
   "metadata": {},
   "outputs": [
    {
     "data": {
      "text/plain": [
       "[1, 1, 2, 1, 3, 4, 1, 1, 1, 2, 2, 2, 4, 1, 4]"
      ]
     },
     "execution_count": 7,
     "metadata": {},
     "output_type": "execute_result"
    }
   ],
   "source": [
    "# Calculate degree of nodes\n",
    "g_random.degree()"
   ]
  },
  {
   "cell_type": "code",
   "execution_count": 8,
   "id": "d1d779c3-5eef-48c9-adf4-2978c36e4d37",
   "metadata": {},
   "outputs": [
    {
     "name": "stdout",
     "output_type": "stream",
     "text": [
      "IGRAPH U--- 15 15 --\n",
      "+ attr: double degree (v)\n",
      "+ edges:\n",
      "1--5 4--6 2--7 5--9 3--10 4--10 5--11 0--12 8--12 9--12 11--12 2--14 4--14\n",
      "5--14 13--14\n"
     ]
    }
   ],
   "source": [
    "# Setting node attributes\n",
    "g_random.vs[\"double degree\"] = [2*d for d in g_random.degree()]\n",
    "print(g_random)"
   ]
  },
  {
   "cell_type": "code",
   "execution_count": 9,
   "id": "a7b827ea-f073-4653-865b-cdac65cc6f48",
   "metadata": {},
   "outputs": [],
   "source": [
    "# Works with numpy arrays as well\n",
    "import numpy as np\n",
    "g_random.vs[\"random number\"] = np.random.random(g_random.vcount())"
   ]
  },
  {
   "cell_type": "code",
   "execution_count": 10,
   "id": "152b23fa-2c48-4831-b97b-cc9bf2291f0d",
   "metadata": {},
   "outputs": [
    {
     "name": "stdout",
     "output_type": "stream",
     "text": [
      "IGRAPH U-W- 15 15 --\n",
      "+ attr: double degree (v), random number (v), weight (e)\n",
      "+ edges:\n",
      "1--5 4--6 2--7 5--9 3--10 4--10 5--11 0--12 8--12 9--12 11--12 2--14 4--14\n",
      "5--14 13--14\n"
     ]
    }
   ],
   "source": [
    "# Setting an random weight attribute to edges\n",
    "g_random.es[\"weight\"] = 10*np.random.random(g_random.ecount())\n",
    "print(g_random)"
   ]
  },
  {
   "cell_type": "code",
   "execution_count": 11,
   "id": "1bf1a49c-2d96-4d34-9239-95377360b12f",
   "metadata": {},
   "outputs": [],
   "source": [
    "# Saving as gml\n",
    "g_random.write_gml(\"random_network.gml\")"
   ]
  },
  {
   "cell_type": "code",
   "execution_count": 12,
   "id": "5fc0b0bb-5ef8-4249-8db7-3c47104e15fa",
   "metadata": {},
   "outputs": [
    {
     "name": "stdout",
     "output_type": "stream",
     "text": [
      "IGRAPH U-W- 15 15 --\n",
      "+ attr: doubledegree (v), id (v), randomnumber (v), weight (e)\n",
      "+ edges:\n",
      "1--5 4--6 2--7 5--9 3--10 4--10 5--11 0--12 8--12 9--12 11--12 2--14 4--14\n",
      "5--14 13--14\n"
     ]
    }
   ],
   "source": [
    "# Loading as gml\n",
    "g_random_loaded = ig.Graph.Read_GML(\"random_network.gml\")\n",
    "print(g_random_loaded)"
   ]
  },
  {
   "cell_type": "code",
   "execution_count": 13,
   "id": "ac938df0-8105-4364-b901-f6297e5e1993",
   "metadata": {},
   "outputs": [],
   "source": [
    "# Saving xnet (useful for the Helios-Web demo)\n",
    "import xnetwork as xn\n",
    "xn.igraph2xnet(g_random,\"random_network.xnet\")"
   ]
  },
  {
   "cell_type": "code",
   "execution_count": 14,
   "id": "e42daa08-1197-4a9f-ab74-b57314794f85",
   "metadata": {},
   "outputs": [
    {
     "name": "stdout",
     "output_type": "stream",
     "text": [
      "IGRAPH U-W- 15 15 --\n",
      "+ attr: double degree (v), random number (v), weight (e)\n",
      "+ edges:\n",
      "1--5 4--6 2--7 5--9 3--10 4--10 5--11 0--12 8--12 9--12 11--12 2--14 4--14\n",
      "5--14 13--14\n"
     ]
    }
   ],
   "source": [
    "# Loading xnet (useful for the Helios-Web demo)\n",
    "import xnetwork as xn\n",
    "g_random_from_xnet = xn.xnet2igraph(\"random_network.xnet\")\n",
    "print(g_random_from_xnet)"
   ]
  },
  {
   "cell_type": "code",
   "execution_count": null,
   "id": "590b4849-4aae-4593-ad94-102e7a048e6a",
   "metadata": {},
   "outputs": [],
   "source": []
  }
 ],
 "metadata": {
  "kernelspec": {
   "display_name": "Python 3 (ipykernel)",
   "language": "python",
   "name": "python3"
  },
  "language_info": {
   "codemirror_mode": {
    "name": "ipython",
    "version": 3
   },
   "file_extension": ".py",
   "mimetype": "text/x-python",
   "name": "python",
   "nbconvert_exporter": "python",
   "pygments_lexer": "ipython3",
   "version": "3.8.12"
  }
 },
 "nbformat": 4,
 "nbformat_minor": 5
}
